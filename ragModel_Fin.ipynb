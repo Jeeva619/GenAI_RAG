{
 "cells": [
  {
   "cell_type": "code",
   "execution_count": 4,
   "id": "900c36d2",
   "metadata": {},
   "outputs": [],
   "source": [
    "import os\n",
    "from dotenv import load_dotenv\n",
    "load_dotenv()\n",
    "from langchain_text_splitters import RecursiveCharacterTextSplitter\n",
    "from langchain_community.document_loaders import WebBaseLoader\n",
    "from langchain.embeddings import HuggingFaceEmbeddings\n",
    "from langchain_community.vectorstores import FAISS\n",
    "from langchain.chains.question_answering import load_qa_chain\n",
    "from langchain_groq import ChatGroq"
   ]
  },
  {
   "cell_type": "code",
   "execution_count": 2,
   "id": "fecb33f6",
   "metadata": {},
   "outputs": [],
   "source": [
    "os.environ[\"GROQ_API_KEY\"] = os.getenv(\"GROQ_API_KEY\")\n",
    "os.environ[\"LanchainAPIkey\"] = os.getenv(\"LanchainAPIkey\")\n",
    "os.environ[\"Langchain_Tracking\"] = \"true\"\n",
    "os.environ[\"LangchainProject\"] = os.getenv(\"LangchainProject\")"
   ]
  },
  {
   "cell_type": "code",
   "execution_count": null,
   "id": "92623529",
   "metadata": {},
   "outputs": [],
   "source": []
  },
  {
   "cell_type": "markdown",
   "id": "0c9a05e6",
   "metadata": {},
   "source": [
    "PDF Based Loader"
   ]
  },
  {
   "cell_type": "code",
   "execution_count": null,
   "id": "a1c826b6",
   "metadata": {},
   "outputs": [],
   "source": []
  },
  {
   "cell_type": "markdown",
   "id": "9898de86",
   "metadata": {},
   "source": [
    "WEB Based Loader"
   ]
  },
  {
   "cell_type": "code",
   "execution_count": null,
   "id": "ae214d9a",
   "metadata": {},
   "outputs": [
    {
     "name": "stderr",
     "output_type": "stream",
     "text": [
      "C:\\Users\\jeeva\\AppData\\Local\\Temp\\ipykernel_20968\\2779331782.py:13: LangChainDeprecationWarning: This class is deprecated. See the following migration guides for replacements based on `chain_type`:\n",
      "stuff: https://python.langchain.com/docs/versions/migrating_chains/stuff_docs_chain\n",
      "map_reduce: https://python.langchain.com/docs/versions/migrating_chains/map_reduce_chain\n",
      "refine: https://python.langchain.com/docs/versions/migrating_chains/refine_chain\n",
      "map_rerank: https://python.langchain.com/docs/versions/migrating_chains/map_rerank_docs_chain\n",
      "\n",
      "See also guides on retrieval and question-answering here: https://python.langchain.com/docs/how_to/#qa-with-rag\n",
      "  qa_chain = load_qa_chain(llm_g, chain_type=\"stuff\")  # or \"map_reduce\" for large docs\n",
      "C:\\Users\\jeeva\\AppData\\Local\\Temp\\ipykernel_20968\\2779331782.py:14: LangChainDeprecationWarning: The method `Chain.run` was deprecated in langchain 0.1.0 and will be removed in 1.0. Use :meth:`~invoke` instead.\n",
      "  response = qa_chain.run(input_documents=docs, question=query)\n"
     ]
    },
    {
     "name": "stdout",
     "output_type": "stream",
     "text": [
      "According to the text provided, Agentic AI uses sophisticated reasoning and iterative planning to autonomously solve complex, multi-step problems. \n",
      "\n"
     ]
    }
   ],
   "source": [
    "loader=WebBaseLoader(\"https://blogs.nvidia.com/blog/what-is-agentic-ai/\")\n",
    "document=loader.load()\n",
    "text_splitter=RecursiveCharacterTextSplitter(chunk_size=1000,chunk_overlap=200)\n",
    "documents=text_splitter.split_documents(document)\n",
    "embeddings = HuggingFaceEmbeddings(model_name=\"sentence-transformers/all-MiniLM-L6-v2\")\n",
    "vectorstore=FAISS.from_documents(documents,embeddings)\n",
    "vectorstore\n",
    "query = \"What is agentic AI?\"\n",
    "docs = vectorstore.similarity_search(query, k=3)  # top 3 similar chunks\n",
    "llm_g = ChatGroq(model = \"gemma2-9b-it\")\n",
    "docs = vectorstore.similarity_search(query, k=3)  # top 3 similar chunks\n",
    "from langchain.chains.question_answering import load_qa_chain\n",
    "qa_chain = load_qa_chain(llm_g, chain_type=\"stuff\")  # or \"map_reduce\" for large docs\n",
    "response = qa_chain.run(input_documents=docs, question=query)"
   ]
  },
  {
   "cell_type": "code",
   "execution_count": null,
   "id": "408bf195",
   "metadata": {},
   "outputs": [],
   "source": [
    "print(response)"
   ]
  },
  {
   "cell_type": "code",
   "execution_count": null,
   "id": "842de789",
   "metadata": {},
   "outputs": [],
   "source": []
  }
 ],
 "metadata": {
  "kernelspec": {
   "display_name": "rag-env",
   "language": "python",
   "name": "python3"
  },
  "language_info": {
   "codemirror_mode": {
    "name": "ipython",
    "version": 3
   },
   "file_extension": ".py",
   "mimetype": "text/x-python",
   "name": "python",
   "nbconvert_exporter": "python",
   "pygments_lexer": "ipython3",
   "version": "3.10.16"
  }
 },
 "nbformat": 4,
 "nbformat_minor": 5
}
